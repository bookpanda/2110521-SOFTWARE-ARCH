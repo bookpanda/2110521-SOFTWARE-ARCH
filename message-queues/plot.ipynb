{
 "cells": [
  {
   "cell_type": "code",
   "execution_count": null,
   "id": "048672b2",
   "metadata": {},
   "outputs": [],
   "source": [
    "import matplotlib.pyplot as plt"
   ]
  },
  {
   "cell_type": "code",
   "execution_count": null,
   "id": "9fb6807d",
   "metadata": {},
   "outputs": [],
   "source": [
    "kafka_data = {\n",
    "    \"0.1MB\": {\n",
    "        \"producer\": 21564.41,\n",
    "        \"consumer\": 26712.357\n",
    "    },\n",
    "    \"0.5MB\": {\n",
    "        \"producer\": 18722.87,\n",
    "        \"consumer\": 6257.997\n",
    "    },\n",
    "    \"1MB\": {\n",
    "        \"producer\": 18013.26,\n",
    "        \"consumer\": 2619.437\n",
    "    }\n",
    "}\n",
    "\n",
    "rabbitmq_data = {\n",
    "    \"0.1MB\": {\n",
    "        \"producer\": 8265.24,\n",
    "        \"consumer\": 2837.504\n",
    "    },\n",
    "    \"0.5MB\": {\n",
    "        \"producer\": 7224.91,\n",
    "        \"consumer\": 2879.617\n",
    "    },\n",
    "    \"1MB\": {\n",
    "        \"producer\": 6891.16,\n",
    "        \"consumer\": 2619.437\n",
    "    }\n",
    "}\n"
   ]
  },
  {
   "cell_type": "code",
   "execution_count": null,
   "id": "4dee99f1",
   "metadata": {},
   "outputs": [],
   "source": []
  }
 ],
 "metadata": {
  "kernelspec": {
   "display_name": "venv",
   "language": "python",
   "name": "python3"
  },
  "language_info": {
   "name": "python",
   "version": "3.12.2"
  }
 },
 "nbformat": 4,
 "nbformat_minor": 5
}
